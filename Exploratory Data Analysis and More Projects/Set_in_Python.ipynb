{
  "nbformat": 4,
  "nbformat_minor": 0,
  "metadata": {
    "colab": {
      "name": "Set in Python.ipynb",
      "provenance": []
    },
    "kernelspec": {
      "name": "python3",
      "display_name": "Python 3"
    }
  },
  "cells": [
    {
      "cell_type": "markdown",
      "metadata": {
        "id": "HjDjy6jrKq74"
      },
      "source": [
        "**Set**"
      ]
    },
    {
      "cell_type": "markdown",
      "metadata": {
        "id": "BuXmUUWkKw-q"
      },
      "source": [
        "A set is a collection which is unordered and unindexed. In Python sets are written with curly brackets."
      ]
    },
    {
      "cell_type": "markdown",
      "metadata": {
        "id": "VgumfS3CK1Ta"
      },
      "source": [
        "Create a Set:"
      ]
    },
    {
      "cell_type": "code",
      "metadata": {
        "id": "it5gIwAzK5XL",
        "colab": {
          "base_uri": "https://localhost:8080/"
        },
        "outputId": "9af87c86-cda5-4766-c908-f5eac6d63002"
      },
      "source": [
        "set_example = {\"python\", \"machine learning\", \"data science\"}\n",
        "print(set_example)"
      ],
      "execution_count": 1,
      "outputs": [
        {
          "output_type": "stream",
          "text": [
            "{'data science', 'machine learning', 'python'}\n"
          ],
          "name": "stdout"
        }
      ]
    },
    {
      "cell_type": "markdown",
      "metadata": {
        "id": "aBmAK1NWLS1c"
      },
      "source": [
        "**Note**: Sets are unordered, so we cannot be sure in which order the items will appear.\n",
        "\n"
      ]
    },
    {
      "cell_type": "markdown",
      "metadata": {
        "id": "NdEl7sWBLVzy"
      },
      "source": [
        "We cannot access items in a set by referring to an index, since sets are unordered the items has no index.\n",
        "\n",
        "But we can loop through the set items using a for loop, or ask if a specified value is present in a set, by using the in keyword."
      ]
    },
    {
      "cell_type": "markdown",
      "metadata": {
        "id": "-lD3yiojMC2e"
      },
      "source": [
        "Loop through the set, and print the values:"
      ]
    },
    {
      "cell_type": "code",
      "metadata": {
        "id": "WKbpDCGNMFVF",
        "colab": {
          "base_uri": "https://localhost:8080/"
        },
        "outputId": "a72bbd82-f57c-48dd-9857-b61fe6b24c4d"
      },
      "source": [
        "set_example = {\"python\", \"machine learning\", \"data science\"}\n",
        "for course in set_example:\n",
        "  print(\"Course\\n\",course)"
      ],
      "execution_count": 2,
      "outputs": [
        {
          "output_type": "stream",
          "text": [
            "Course\n",
            " data science\n",
            "Course\n",
            " machine learning\n",
            "Course\n",
            " python\n"
          ],
          "name": "stdout"
        }
      ]
    },
    {
      "cell_type": "markdown",
      "metadata": {
        "id": "U3pnr9YNOJkE"
      },
      "source": [
        "Check if element is present in the set:"
      ]
    },
    {
      "cell_type": "code",
      "metadata": {
        "id": "qhEl1kjzONMD",
        "colab": {
          "base_uri": "https://localhost:8080/"
        },
        "outputId": "c560ba26-8e1a-4677-b20f-bb9085c0595c"
      },
      "source": [
        "print(\"python\" in set_example)"
      ],
      "execution_count": 3,
      "outputs": [
        {
          "output_type": "stream",
          "text": [
            "True\n"
          ],
          "name": "stdout"
        }
      ]
    },
    {
      "cell_type": "markdown",
      "metadata": {
        "id": "euGY2iA5OZSb"
      },
      "source": [
        "**Change Items**\n",
        "\n",
        "\n",
        "Once a set is created, you cannot change its items, but you can add new items."
      ]
    },
    {
      "cell_type": "markdown",
      "metadata": {
        "id": "vn6tHDo8O5qB"
      },
      "source": [
        "**Add Items**"
      ]
    },
    {
      "cell_type": "markdown",
      "metadata": {
        "id": "O2xUxqfLOisg"
      },
      "source": [
        "* To add one item to a set use the add() method.\n",
        "\n",
        "* To add more than one item to a set use the update() method."
      ]
    },
    {
      "cell_type": "code",
      "metadata": {
        "id": "NF4pGmL6Op5L",
        "colab": {
          "base_uri": "https://localhost:8080/"
        },
        "outputId": "102ddfed-4508-4b20-f291-079a6a50f5a9"
      },
      "source": [
        "set_example.add(\"deep learning\")\n",
        "print(set_example)"
      ],
      "execution_count": 4,
      "outputs": [
        {
          "output_type": "stream",
          "text": [
            "{'deep learning', 'data science', 'machine learning', 'python'}\n"
          ],
          "name": "stdout"
        }
      ]
    },
    {
      "cell_type": "code",
      "metadata": {
        "id": "o57qTxQSPPrB",
        "colab": {
          "base_uri": "https://localhost:8080/"
        },
        "outputId": "df9b1f2d-2375-4032-ec16-25865af6ff74"
      },
      "source": [
        "set_example.update([\"NLP\", \"Computer Vision\", \"Big DATA\"])\n",
        "print(set_example)"
      ],
      "execution_count": 5,
      "outputs": [
        {
          "output_type": "stream",
          "text": [
            "{'data science', 'NLP', 'python', 'Big DATA', 'Computer Vision', 'deep learning', 'machine learning'}\n"
          ],
          "name": "stdout"
        }
      ]
    },
    {
      "cell_type": "code",
      "metadata": {
        "id": "etdtQRz3PfUF"
      },
      "source": [
        ""
      ],
      "execution_count": 5,
      "outputs": []
    },
    {
      "cell_type": "markdown",
      "metadata": {
        "id": "xeq_rLS5PimO"
      },
      "source": [
        "**Get the Length of a Set**"
      ]
    },
    {
      "cell_type": "markdown",
      "metadata": {
        "id": "GFBQBz8APkTc"
      },
      "source": [
        "To determine how many items a set has, use the len() method."
      ]
    },
    {
      "cell_type": "code",
      "metadata": {
        "id": "JzEwUxFmPnR8",
        "colab": {
          "base_uri": "https://localhost:8080/"
        },
        "outputId": "3ab747cf-99f7-4ef7-8c2d-4bb101d3d024"
      },
      "source": [
        "print(len(set_example))"
      ],
      "execution_count": 6,
      "outputs": [
        {
          "output_type": "stream",
          "text": [
            "7\n"
          ],
          "name": "stdout"
        }
      ]
    },
    {
      "cell_type": "markdown",
      "metadata": {
        "id": "-zzSr6VsaDYH"
      },
      "source": [
        "**Remove Item**\n",
        "\n",
        "To remove an item in a set, use the remove(), or the discard() method."
      ]
    },
    {
      "cell_type": "code",
      "metadata": {
        "id": "e1Amnn2QaMBY",
        "colab": {
          "base_uri": "https://localhost:8080/"
        },
        "outputId": "d8c576d8-ed1b-410a-cd88-8ea1d0722fcb"
      },
      "source": [
        "#Remove \"Big DATA\" by using the remove() method:\n",
        "set_example.remove(\"Big DATA\")\n",
        "print(set_example)"
      ],
      "execution_count": 7,
      "outputs": [
        {
          "output_type": "stream",
          "text": [
            "{'data science', 'NLP', 'python', 'Computer Vision', 'deep learning', 'machine learning'}\n"
          ],
          "name": "stdout"
        }
      ]
    },
    {
      "cell_type": "code",
      "metadata": {
        "id": "gAaYA-hIacI6",
        "colab": {
          "base_uri": "https://localhost:8080/"
        },
        "outputId": "672b3066-2d3c-454c-8f0c-881835d5e4a9"
      },
      "source": [
        "#Remove \"Computer Vision\" by using the discard() method:\n",
        "set_example.discard(\"Computer Vision\")\n",
        "print(set_example)"
      ],
      "execution_count": 8,
      "outputs": [
        {
          "output_type": "stream",
          "text": [
            "{'data science', 'NLP', 'python', 'deep learning', 'machine learning'}\n"
          ],
          "name": "stdout"
        }
      ]
    },
    {
      "cell_type": "markdown",
      "metadata": {
        "id": "W4IMNPlsazah"
      },
      "source": [
        "You can also use the **pop()**, method to remove an item, but this method will remove the last item. Remember that sets are unordered, so we will not know what item that gets removed.\n",
        "\n",
        "The return value of the **pop()** method is the removed item."
      ]
    },
    {
      "cell_type": "code",
      "metadata": {
        "id": "SCVOxjO0a7Hv",
        "colab": {
          "base_uri": "https://localhost:8080/"
        },
        "outputId": "d50f7a68-a401-411f-8acd-5ce677c01894"
      },
      "source": [
        "\n",
        "x = set_example.pop()\n",
        "\n",
        "print(x)\n",
        "\n",
        "print(set_example)"
      ],
      "execution_count": 9,
      "outputs": [
        {
          "output_type": "stream",
          "text": [
            "data science\n",
            "{'NLP', 'python', 'deep learning', 'machine learning'}\n"
          ],
          "name": "stdout"
        }
      ]
    },
    {
      "cell_type": "markdown",
      "metadata": {
        "id": "RABIt_5AbKTd"
      },
      "source": [
        "**Empties set using clear() method.**"
      ]
    },
    {
      "cell_type": "code",
      "metadata": {
        "id": "Eb4VY8K4b0CA",
        "colab": {
          "base_uri": "https://localhost:8080/"
        },
        "outputId": "a4f124a5-37f1-4f65-d226-7afd155df532"
      },
      "source": [
        "set_example_1 = {10,20,30,40}\n",
        "print(set_example_1)\n",
        "set_example_1.clear()\n",
        "print(set_example_1)"
      ],
      "execution_count": 10,
      "outputs": [
        {
          "output_type": "stream",
          "text": [
            "{40, 10, 20, 30}\n",
            "set()\n"
          ],
          "name": "stdout"
        }
      ]
    },
    {
      "cell_type": "markdown",
      "metadata": {
        "id": "s9aDdqbSb4JI"
      },
      "source": [
        "**Delete set using del keyword**"
      ]
    },
    {
      "cell_type": "code",
      "metadata": {
        "id": "9_NTepJXcAWh",
        "colab": {
          "base_uri": "https://localhost:8080/"
        },
        "outputId": "95ffbc5f-b2f9-40d7-c0f2-12d2c97992d9"
      },
      "source": [
        "set_example_2 = {10,20,30,40}\n",
        "print(set_example_2)\n",
        "del set_example_2\n"
      ],
      "execution_count": 11,
      "outputs": [
        {
          "output_type": "stream",
          "text": [
            "{40, 10, 20, 30}\n"
          ],
          "name": "stdout"
        }
      ]
    },
    {
      "cell_type": "markdown",
      "metadata": {
        "id": "CO4Ljnh1cpuQ"
      },
      "source": [
        "**Join Two Sets**\n",
        "\n",
        "There are several ways to join two or more sets in Python.\n",
        "\n",
        "We can use the union() method that returns a new set containing all items from both sets, or the update() method that inserts all the items from one set into another:"
      ]
    },
    {
      "cell_type": "markdown",
      "metadata": {
        "id": "IwVR6WifczkA"
      },
      "source": [
        "The **union()** method returns a new set with all items from both sets:"
      ]
    },
    {
      "cell_type": "code",
      "metadata": {
        "id": "1P2rVLtNc16f",
        "colab": {
          "base_uri": "https://localhost:8080/"
        },
        "outputId": "cebb23de-ebc5-49b1-8c3a-e9b81aa20e9e"
      },
      "source": [
        "set1 = {\"a\", \"b\" , \"c\"}\n",
        "set2 = {1, 2, 3}\n",
        "\n",
        "set3 = set1.union(set2)\n",
        "print(set3)"
      ],
      "execution_count": 12,
      "outputs": [
        {
          "output_type": "stream",
          "text": [
            "{1, 'b', 'c', 2, 3, 'a'}\n"
          ],
          "name": "stdout"
        }
      ]
    },
    {
      "cell_type": "markdown",
      "metadata": {
        "id": "oomwtt_5c7qS"
      },
      "source": [
        "The **update(**) method inserts the items in set2 into set1:"
      ]
    },
    {
      "cell_type": "code",
      "metadata": {
        "id": "8VUq4Btlc9lz",
        "colab": {
          "base_uri": "https://localhost:8080/"
        },
        "outputId": "d761588a-fbf4-4dfc-fb5a-2498e9d923d9"
      },
      "source": [
        "set1 = {\"a\", \"b\" , \"c\"}\n",
        "set2 = {1, 2, 3}\n",
        "\n",
        "set1.update(set2)\n",
        "print(set1)"
      ],
      "execution_count": 13,
      "outputs": [
        {
          "output_type": "stream",
          "text": [
            "{1, 'b', 'c', 2, 3, 'a'}\n"
          ],
          "name": "stdout"
        }
      ]
    },
    {
      "cell_type": "markdown",
      "metadata": {
        "id": "wMn5M_7xdDuK"
      },
      "source": [
        "**Note**: Both union() and update() will exclude any duplicate items."
      ]
    },
    {
      "cell_type": "markdown",
      "metadata": {
        "id": "9ehXm0pRdJ3-"
      },
      "source": [
        "**The set() Constructor**\n",
        "\n",
        "Using the set() constructor to make a set:"
      ]
    },
    {
      "cell_type": "code",
      "metadata": {
        "id": "pYU-8wTsdRuo",
        "colab": {
          "base_uri": "https://localhost:8080/"
        },
        "outputId": "d622e784-7cf6-478a-a21b-e4b93dd6976d"
      },
      "source": [
        "set_example_3 = set((\"ml\",\"ds\",\"nlp\"))\n",
        "print(set_example_3)"
      ],
      "execution_count": 14,
      "outputs": [
        {
          "output_type": "stream",
          "text": [
            "{'ds', 'ml', 'nlp'}\n"
          ],
          "name": "stdout"
        }
      ]
    },
    {
      "cell_type": "markdown",
      "metadata": {
        "id": "iLYq_J-5hveL"
      },
      "source": [
        "**Set v/s Dictionary**\n",
        "\n",
        "Sets are different in the sense that order does not matter and these will be used in cases where order does not matter.\n",
        "\n",
        "Sets are especially useful when you need to ensure that an item only appears once in the set.\n",
        "\n",
        "Dictionaries are used to store key, value pairs and are used when you want to easily find a value using a key, just like in a dictionary.\n",
        "\n",
        "For example, you could store a list of items and links to more information about these items in a dictionary."
      ]
    }
  ]
}