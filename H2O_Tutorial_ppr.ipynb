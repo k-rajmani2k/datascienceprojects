{
  "nbformat": 4,
  "nbformat_minor": 0,
  "metadata": {
    "colab": {
      "name": "H2O Tutorial ppr.ipynb",
      "provenance": []
    },
    "kernelspec": {
      "name": "python3",
      "display_name": "Python 3"
    }
  },
  "cells": [
    {
      "cell_type": "code",
      "metadata": {
        "id": "dMizEUEPp45E"
      },
      "source": [
        ""
      ],
      "execution_count": null,
      "outputs": []
    },
    {
      "cell_type": "markdown",
      "metadata": {
        "id": "OZgOlT_AvjNA"
      },
      "source": [
        "**Introduction**"
      ]
    },
    {
      "cell_type": "markdown",
      "metadata": {
        "id": "j1MlTlyxsb3y"
      },
      "source": [
        "H2O is an open source Machine Learning framework with full-tested implementations of several widely-accepted ML algorithms. You just have to pick up the algorithm from its huge repository and apply it to your dataset. It contains the most widely used statistical and ML algorithms.\n",
        "\n",
        "H2O provides an easy-to-use open source platform for applying different ML algorithms on a given dataset. It provides **several statistical and ML algorithms including deep learning.**\n",
        "\n",
        "In this tutorial, we will consider examples and understand how to go about working with H2O.\n",
        "\n",
        "**Audience**\n",
        "This tutorial is designed to help all those learners who are aiming to develop a Machine Learning model on a huge database.\n",
        "\n",
        "Prerequisites\n",
        "\n",
        "---\n",
        "\n",
        "\n",
        "It is assumed that the learner has a basic understanding of Machine Learning and is familiar with Python."
      ]
    },
    {
      "cell_type": "markdown",
      "metadata": {
        "id": "p9fzXkhfvXwz"
      },
      "source": [
        "**H2O Setup Guide**\n"
      ]
    },
    {
      "cell_type": "markdown",
      "metadata": {
        "id": "D-i2rltXsnYs"
      },
      "source": [
        " Have you ever been asked to develop a Machine Learning model on a **huge database**? Typically, the database will provide you  and ask you to make certain predictions such as who will be the potential buyers; if there can be an early detection of fraudulent cases, etc. To answer these questions, your task would be to develop a Machine Learning algorithm that would provide an answer to the customer’s query. Developing a Machine Learning algorithm from scratch is not an easy task and why should you do this when there are **several ready-to-use Machine Learning libraries** available in the market.\n",
        "\n",
        "These days, you would rather use these libraries, apply a well-tested algorithm from these libraries and look at its performance. If the performance were not within acceptable limits, you would try to either fine-tune the current algorithm or try an altogether different one.\n",
        "\n",
        "Likewise, you may try multiple algorithms on the same dataset and then pick up the best one that satisfactorily meets the customer’s requirements. This is where H2O comes to your rescue. It is an open source Machine Learning framework with full-tested implementations of several widely-accepted ML algorithms. You just have to pick up the algorithm from its huge repository and apply it to your dataset. It contains the most widely used statistical and ML algorithms.\n",
        "\n",
        "To mention a few here it includes **gradient boosted machines (GBM), generalized linear model (GLM), deep learning and many more**. Not only that it also supports ***AutoML functionality*** that will rank the performance of different algorithms on your dataset, thus reducing your efforts of finding the best performing model. It is an in-memory platform that provides superb performance.\n",
        "\n",
        "To install the H2O on your machine . see this web link [H2O Installation Tutorial](https://www.tutorialspoint.com/h2o/h2o_installation.htm)We will understand how to use this in the command line so that you understand its working line-wise. If you are a Python lover, you may use Jupyter or any other IDE of your choice for developing H2O applications. \n",
        "\n",
        "The H2O also provides a web-based tool to test the different algorithms on your dataset. This is called Flow.\n",
        "\n",
        "The tutorial will introduce you to the use of **Flow**. Alongside, we will discuss the use of **AutoML** that will identify the best performing algorithm on your dataset. Are you not excited to learn H2O? Keep reading!\n"
      ]
    },
    {
      "cell_type": "markdown",
      "metadata": {
        "id": "hgyIACPVwPp8"
      },
      "source": [
        "** H20 provide many in-built ML and Deep Leraing Algorithms. but in this tutorial my foucs to provide AutoML tutorial.**  "
      ]
    },
    {
      "cell_type": "markdown",
      "metadata": {
        "id": "27ufYZvdwiVa"
      },
      "source": [
        "**To use AutoML, start a new Jupyter notebook and follow the steps shown below.**"
      ]
    },
    {
      "cell_type": "markdown",
      "metadata": {
        "id": "BJV5AOH9w4Q8"
      },
      "source": [
        "**Importing AutoML**"
      ]
    },
    {
      "cell_type": "markdown",
      "metadata": {
        "id": "spdT-PG8w-FF"
      },
      "source": [
        "First import H2O and AutoML package into the project using the following two statements −"
      ]
    },
    {
      "cell_type": "code",
      "metadata": {
        "id": "TKsX3G38xBsF",
        "colab": {
          "base_uri": "https://localhost:8080/"
        },
        "outputId": "b51ffbe4-6a9d-4ff7-9705-7f07ed433196"
      },
      "source": [
        "!pip install -f http://h2o-release.s3.amazonaws.com/h2o/latest_stable_Py.html h2o\n"
      ],
      "execution_count": 1,
      "outputs": [
        {
          "output_type": "stream",
          "text": [
            "Looking in links: http://h2o-release.s3.amazonaws.com/h2o/latest_stable_Py.html\n",
            "\u001b[33mWARNING: The repository located at h2o-release.s3.amazonaws.com is not a trusted or secure host and is being ignored. If this repository is available via HTTPS we recommend you use HTTPS instead, otherwise you may silence this warning and allow it anyway with '--trusted-host h2o-release.s3.amazonaws.com'.\u001b[0m\n",
            "Collecting h2o\n",
            "\u001b[?25l  Downloading https://files.pythonhosted.org/packages/23/c9/f24bbb8e7a57097f12c7bef3d277641eddf5160688e442d0eb1b41bf6a67/h2o-3.32.1.3.tar.gz (164.8MB)\n",
            "\u001b[K     |████████████████████████████████| 164.8MB 85kB/s \n",
            "\u001b[?25hRequirement already satisfied: requests in /usr/local/lib/python3.7/dist-packages (from h2o) (2.23.0)\n",
            "Requirement already satisfied: tabulate in /usr/local/lib/python3.7/dist-packages (from h2o) (0.8.9)\n",
            "Requirement already satisfied: future in /usr/local/lib/python3.7/dist-packages (from h2o) (0.16.0)\n",
            "\u001b[33mWARNING: The repository located at h2o-release.s3.amazonaws.com is not a trusted or secure host and is being ignored. If this repository is available via HTTPS we recommend you use HTTPS instead, otherwise you may silence this warning and allow it anyway with '--trusted-host h2o-release.s3.amazonaws.com'.\u001b[0m\n",
            "Collecting colorama>=0.3.8\n",
            "  Downloading https://files.pythonhosted.org/packages/44/98/5b86278fbbf250d239ae0ecb724f8572af1c91f4a11edf4d36a206189440/colorama-0.4.4-py2.py3-none-any.whl\n",
            "Requirement already satisfied: certifi>=2017.4.17 in /usr/local/lib/python3.7/dist-packages (from requests->h2o) (2020.12.5)\n",
            "Requirement already satisfied: idna<3,>=2.5 in /usr/local/lib/python3.7/dist-packages (from requests->h2o) (2.10)\n",
            "Requirement already satisfied: urllib3!=1.25.0,!=1.25.1,<1.26,>=1.21.1 in /usr/local/lib/python3.7/dist-packages (from requests->h2o) (1.24.3)\n",
            "Requirement already satisfied: chardet<4,>=3.0.2 in /usr/local/lib/python3.7/dist-packages (from requests->h2o) (3.0.4)\n",
            "Building wheels for collected packages: h2o\n",
            "  Building wheel for h2o (setup.py) ... \u001b[?25l\u001b[?25hdone\n",
            "  Created wheel for h2o: filename=h2o-3.32.1.3-py2.py3-none-any.whl size=164854343 sha256=1b12c8fb15dd60a6ede8a20922939e18aaaf68788d0ade46bdcad8fd2d282c3c\n",
            "  Stored in directory: /root/.cache/pip/wheels/4f/bb/82/0988682f9abd0b5e95109a4aae6793dd427173b6dc671d9252\n",
            "Successfully built h2o\n",
            "Installing collected packages: colorama, h2o\n",
            "Successfully installed colorama-0.4.4 h2o-3.32.1.3\n"
          ],
          "name": "stdout"
        }
      ]
    },
    {
      "cell_type": "code",
      "metadata": {
        "id": "sw_LJHofxpmq"
      },
      "source": [
        "import h2o\n",
        "from h2o.automl import H2OAutoML"
      ],
      "execution_count": 2,
      "outputs": []
    },
    {
      "cell_type": "markdown",
      "metadata": {
        "id": "Q6b_uwHbxyVU"
      },
      "source": [
        "**Initialize H2O**"
      ]
    },
    {
      "cell_type": "markdown",
      "metadata": {
        "id": "Sb8ClgEjx1TM"
      },
      "source": [
        "Initialize h2o using the following statement −"
      ]
    },
    {
      "cell_type": "code",
      "metadata": {
        "id": "CB6Ky4xYx5Im",
        "colab": {
          "base_uri": "https://localhost:8080/",
          "height": 510
        },
        "outputId": "6fc18585-27c0-4abd-dcea-68bfa3e486ed"
      },
      "source": [
        "h2o.init()"
      ],
      "execution_count": 3,
      "outputs": [
        {
          "output_type": "stream",
          "text": [
            "Checking whether there is an H2O instance running at http://localhost:54321 ..... not found.\n",
            "Attempting to start a local H2O server...\n",
            "  Java Version: openjdk version \"11.0.11\" 2021-04-20; OpenJDK Runtime Environment (build 11.0.11+9-Ubuntu-0ubuntu2.18.04); OpenJDK 64-Bit Server VM (build 11.0.11+9-Ubuntu-0ubuntu2.18.04, mixed mode, sharing)\n",
            "  Starting server from /usr/local/lib/python3.7/dist-packages/h2o/backend/bin/h2o.jar\n",
            "  Ice root: /tmp/tmp304d18pg\n",
            "  JVM stdout: /tmp/tmp304d18pg/h2o_unknownUser_started_from_python.out\n",
            "  JVM stderr: /tmp/tmp304d18pg/h2o_unknownUser_started_from_python.err\n",
            "  Server is running at http://127.0.0.1:54321\n",
            "Connecting to H2O server at http://127.0.0.1:54321 ... successful.\n"
          ],
          "name": "stdout"
        },
        {
          "output_type": "display_data",
          "data": {
            "text/html": [
              "<div style=\"overflow:auto\"><table style=\"width:50%\"><tr><td>H2O_cluster_uptime:</td>\n",
              "<td>03 secs</td></tr>\n",
              "<tr><td>H2O_cluster_timezone:</td>\n",
              "<td>Etc/UTC</td></tr>\n",
              "<tr><td>H2O_data_parsing_timezone:</td>\n",
              "<td>UTC</td></tr>\n",
              "<tr><td>H2O_cluster_version:</td>\n",
              "<td>3.32.1.3</td></tr>\n",
              "<tr><td>H2O_cluster_version_age:</td>\n",
              "<td>18 days </td></tr>\n",
              "<tr><td>H2O_cluster_name:</td>\n",
              "<td>H2O_from_python_unknownUser_zovcwu</td></tr>\n",
              "<tr><td>H2O_cluster_total_nodes:</td>\n",
              "<td>1</td></tr>\n",
              "<tr><td>H2O_cluster_free_memory:</td>\n",
              "<td>3.174 Gb</td></tr>\n",
              "<tr><td>H2O_cluster_total_cores:</td>\n",
              "<td>2</td></tr>\n",
              "<tr><td>H2O_cluster_allowed_cores:</td>\n",
              "<td>2</td></tr>\n",
              "<tr><td>H2O_cluster_status:</td>\n",
              "<td>accepting new members, healthy</td></tr>\n",
              "<tr><td>H2O_connection_url:</td>\n",
              "<td>http://127.0.0.1:54321</td></tr>\n",
              "<tr><td>H2O_connection_proxy:</td>\n",
              "<td>{\"http\": null, \"https\": null}</td></tr>\n",
              "<tr><td>H2O_internal_security:</td>\n",
              "<td>False</td></tr>\n",
              "<tr><td>H2O_API_Extensions:</td>\n",
              "<td>Amazon S3, XGBoost, Algos, AutoML, Core V3, TargetEncoder, Core V4</td></tr>\n",
              "<tr><td>Python_version:</td>\n",
              "<td>3.7.10 final</td></tr></table></div>"
            ],
            "text/plain": [
              "--------------------------  ------------------------------------------------------------------\n",
              "H2O_cluster_uptime:         03 secs\n",
              "H2O_cluster_timezone:       Etc/UTC\n",
              "H2O_data_parsing_timezone:  UTC\n",
              "H2O_cluster_version:        3.32.1.3\n",
              "H2O_cluster_version_age:    18 days\n",
              "H2O_cluster_name:           H2O_from_python_unknownUser_zovcwu\n",
              "H2O_cluster_total_nodes:    1\n",
              "H2O_cluster_free_memory:    3.174 Gb\n",
              "H2O_cluster_total_cores:    2\n",
              "H2O_cluster_allowed_cores:  2\n",
              "H2O_cluster_status:         accepting new members, healthy\n",
              "H2O_connection_url:         http://127.0.0.1:54321\n",
              "H2O_connection_proxy:       {\"http\": null, \"https\": null}\n",
              "H2O_internal_security:      False\n",
              "H2O_API_Extensions:         Amazon S3, XGBoost, Algos, AutoML, Core V3, TargetEncoder, Core V4\n",
              "Python_version:             3.7.10 final\n",
              "--------------------------  ------------------------------------------------------------------"
            ]
          },
          "metadata": {
            "tags": []
          }
        }
      ]
    },
    {
      "cell_type": "markdown",
      "metadata": {
        "id": "5jm17fPgyEmf"
      },
      "source": [
        "**Loading Data**"
      ]
    },
    {
      "cell_type": "markdown",
      "metadata": {
        "id": "Gz6aqob7yHcE"
      },
      "source": [
        "We are using iris.csv dataset.Load the data using the following statement −"
      ]
    },
    {
      "cell_type": "code",
      "metadata": {
        "id": "g1sXZ96M3gCU",
        "colab": {
          "base_uri": "https://localhost:8080/"
        },
        "outputId": "642f908d-865e-43ff-d813-3b12fcf6fff6"
      },
      "source": [
        "from sklearn import datasets\n",
        "data = h2o.import_file('https://gist.githubusercontent.com/btkhimsar/ed560337d8b944832d1c1f55fac093fc/raw/6f9306ad21398ea43cba4f7d537619d0e07d5ae3/iris.csv')\n",
        "\n"
      ],
      "execution_count": 4,
      "outputs": [
        {
          "output_type": "stream",
          "text": [
            "Parse progress: |█████████████████████████████████████████████████████████| 100%\n"
          ],
          "name": "stdout"
        }
      ]
    },
    {
      "cell_type": "code",
      "metadata": {
        "id": "HikaP0f24P0Q",
        "colab": {
          "base_uri": "https://localhost:8080/"
        },
        "outputId": "9d86ab4d-7201-4f62-ca59-fdede39b6659"
      },
      "source": [
        "data.columns"
      ],
      "execution_count": 5,
      "outputs": [
        {
          "output_type": "execute_result",
          "data": {
            "text/plain": [
              "['sepal.length', 'sepal.width', 'petal.length', 'petal.width', 'variety']"
            ]
          },
          "metadata": {
            "tags": []
          },
          "execution_count": 5
        }
      ]
    },
    {
      "cell_type": "markdown",
      "metadata": {
        "id": "91U-HLYE47JN"
      },
      "source": [
        "**Preparing Dataset**"
      ]
    },
    {
      "cell_type": "markdown",
      "metadata": {
        "id": "vpshmgOA49zR"
      },
      "source": [
        "We need to decide on the features and the prediction columns. We use the same features and the predication column as in our earlier case. Set the features and the output column using the following two statements −"
      ]
    },
    {
      "cell_type": "code",
      "metadata": {
        "id": "5ynCJyqw5Bhm"
      },
      "source": [
        "features = ['sepal.length', 'sepal.width', 'petal.length', 'petal.width']\n",
        "output = 'variety'"
      ],
      "execution_count": 6,
      "outputs": []
    },
    {
      "cell_type": "markdown",
      "metadata": {
        "id": "aq6VEN4N5GRu"
      },
      "source": [
        "Split the data in 80:20 ratio for training and testing −"
      ]
    },
    {
      "cell_type": "code",
      "metadata": {
        "id": "6Zcqvxu65IkR"
      },
      "source": [
        "train, test = data.split_frame(ratios=[0.8])"
      ],
      "execution_count": 7,
      "outputs": []
    },
    {
      "cell_type": "markdown",
      "metadata": {
        "id": "exwW1zqr5MiO"
      },
      "source": [
        "**Applying AutoML**"
      ]
    },
    {
      "cell_type": "markdown",
      "metadata": {
        "id": "SG8U5PoO5QpO"
      },
      "source": [
        "Now, we are all set for applying AutoML on our dataset. The AutoML will run for a fixed amount of time set by us and give us the optimized model. We set up the AutoML using the following statement −"
      ]
    },
    {
      "cell_type": "code",
      "metadata": {
        "id": "TtDE_CJS5RRQ"
      },
      "source": [
        "automl = H2OAutoML(max_models = 30, max_runtime_secs=300, seed = 1)"
      ],
      "execution_count": 8,
      "outputs": []
    },
    {
      "cell_type": "markdown",
      "metadata": {
        "id": "z1_2x0lp5Zcf"
      },
      "source": [
        "The first parameter specifies the number of models that we want to evaluate and compare.\n",
        "\n",
        "The second parameter specifies the time for which the algorithm runs.\n",
        "\n",
        "We now call the train method on the AutoML object as shown here −"
      ]
    },
    {
      "cell_type": "code",
      "metadata": {
        "id": "4GYhzm0t5glX",
        "colab": {
          "base_uri": "https://localhost:8080/"
        },
        "outputId": "86a00718-f00e-4b77-bcd7-a8c3e8da58d8"
      },
      "source": [
        "automl.train(x =features, y =output, training_frame = train)"
      ],
      "execution_count": 9,
      "outputs": [
        {
          "output_type": "stream",
          "text": [
            "AutoML progress: |████████████\n",
            "18:35:23.795: Skipping training of model GBM_5_AutoML_20210606_183457 due to exception: water.exceptions.H2OModelBuilderIllegalArgumentException: Illegal argument(s) for GBM model: GBM_5_AutoML_20210606_183457.  Details: ERRR on field: _min_rows: The dataset size is too small to split for min_rows=100.0: must have at least 200.0 (weighted) rows, but have only 120.0.\n",
            "\n",
            "\n",
            "████████████████████████████████████████████| 100%\n"
          ],
          "name": "stdout"
        }
      ]
    },
    {
      "cell_type": "markdown",
      "metadata": {
        "id": "Z8uFrx6z6xT1"
      },
      "source": [
        "We specify the x as the features array that we created earlier, the y as the output variable to indicate the predicted value and the dataframe as train dataset.\n",
        "\n",
        "Run the code, you will have to wait for 5 minutes (we set the max_runtime_secs to 300) until you get the following output −"
      ]
    },
    {
      "cell_type": "markdown",
      "metadata": {
        "id": "X3dxlKWz61C4"
      },
      "source": [
        "**Printing the Leaderboard**"
      ]
    },
    {
      "cell_type": "markdown",
      "metadata": {
        "id": "vPFplfWE63TI"
      },
      "source": [
        "When the AutoML processing completes, it creates a leaderboard ranking all the 30 algorithms that it has evaluated. To see the first 10 records of the leaderboard, use the following code −"
      ]
    },
    {
      "cell_type": "code",
      "metadata": {
        "id": "zGOeXtFg69H3",
        "colab": {
          "base_uri": "https://localhost:8080/",
          "height": 238
        },
        "outputId": "4dd6bab9-1e4b-4dcd-e92d-2dcf4aabd04e"
      },
      "source": [
        "lb = automl.leaderboard\n",
        "lb.head()"
      ],
      "execution_count": 10,
      "outputs": [
        {
          "output_type": "display_data",
          "data": {
            "text/html": [
              "<table>\n",
              "<thead>\n",
              "<tr><th>model_id                                           </th><th style=\"text-align: right;\">  mean_per_class_error</th><th style=\"text-align: right;\">  logloss</th><th style=\"text-align: right;\">    rmse</th><th style=\"text-align: right;\">      mse</th><th style=\"text-align: right;\">  auc</th><th style=\"text-align: right;\">  aucpr</th></tr>\n",
              "</thead>\n",
              "<tbody>\n",
              "<tr><td>GLM_1_AutoML_20210606_183457                       </td><td style=\"text-align: right;\">             0.0240741</td><td style=\"text-align: right;\">0.0821309</td><td style=\"text-align: right;\">0.161252</td><td style=\"text-align: right;\">0.0260022</td><td style=\"text-align: right;\">  nan</td><td style=\"text-align: right;\">    nan</td></tr>\n",
              "<tr><td>DeepLearning_grid__2_AutoML_20210606_183457_model_1</td><td style=\"text-align: right;\">             0.0333333</td><td style=\"text-align: right;\">0.25139  </td><td style=\"text-align: right;\">0.178427</td><td style=\"text-align: right;\">0.0318364</td><td style=\"text-align: right;\">  nan</td><td style=\"text-align: right;\">    nan</td></tr>\n",
              "<tr><td>XGBoost_1_AutoML_20210606_183457                   </td><td style=\"text-align: right;\">             0.05     </td><td style=\"text-align: right;\">0.24658  </td><td style=\"text-align: right;\">0.244583</td><td style=\"text-align: right;\">0.059821 </td><td style=\"text-align: right;\">  nan</td><td style=\"text-align: right;\">    nan</td></tr>\n",
              "<tr><td>GBM_1_AutoML_20210606_183457                       </td><td style=\"text-align: right;\">             0.05     </td><td style=\"text-align: right;\">0.215424 </td><td style=\"text-align: right;\">0.226825</td><td style=\"text-align: right;\">0.0514496</td><td style=\"text-align: right;\">  nan</td><td style=\"text-align: right;\">    nan</td></tr>\n",
              "<tr><td>XGBoost_3_AutoML_20210606_183457                   </td><td style=\"text-align: right;\">             0.05     </td><td style=\"text-align: right;\">0.184234 </td><td style=\"text-align: right;\">0.217079</td><td style=\"text-align: right;\">0.0471231</td><td style=\"text-align: right;\">  nan</td><td style=\"text-align: right;\">    nan</td></tr>\n",
              "<tr><td>GBM_4_AutoML_20210606_183457                       </td><td style=\"text-align: right;\">             0.05     </td><td style=\"text-align: right;\">0.169136 </td><td style=\"text-align: right;\">0.216628</td><td style=\"text-align: right;\">0.0469276</td><td style=\"text-align: right;\">  nan</td><td style=\"text-align: right;\">    nan</td></tr>\n",
              "<tr><td>XGBoost_grid__1_AutoML_20210606_183457_model_8     </td><td style=\"text-align: right;\">             0.05     </td><td style=\"text-align: right;\">0.241442 </td><td style=\"text-align: right;\">0.240844</td><td style=\"text-align: right;\">0.0580059</td><td style=\"text-align: right;\">  nan</td><td style=\"text-align: right;\">    nan</td></tr>\n",
              "<tr><td>DeepLearning_grid__1_AutoML_20210606_183457_model_1</td><td style=\"text-align: right;\">             0.05     </td><td style=\"text-align: right;\">0.219212 </td><td style=\"text-align: right;\">0.200298</td><td style=\"text-align: right;\">0.0401194</td><td style=\"text-align: right;\">  nan</td><td style=\"text-align: right;\">    nan</td></tr>\n",
              "<tr><td>StackedEnsemble_AllModels_AutoML_20210606_183457   </td><td style=\"text-align: right;\">             0.0518519</td><td style=\"text-align: right;\">0.221411 </td><td style=\"text-align: right;\">0.231486</td><td style=\"text-align: right;\">0.0535859</td><td style=\"text-align: right;\">  nan</td><td style=\"text-align: right;\">    nan</td></tr>\n",
              "<tr><td>GBM_3_AutoML_20210606_183457                       </td><td style=\"text-align: right;\">             0.0592593</td><td style=\"text-align: right;\">0.18597  </td><td style=\"text-align: right;\">0.227199</td><td style=\"text-align: right;\">0.0516193</td><td style=\"text-align: right;\">  nan</td><td style=\"text-align: right;\">    nan</td></tr>\n",
              "</tbody>\n",
              "</table>"
            ]
          },
          "metadata": {
            "tags": []
          }
        },
        {
          "output_type": "execute_result",
          "data": {
            "text/plain": [
              ""
            ]
          },
          "metadata": {
            "tags": []
          },
          "execution_count": 10
        }
      ]
    },
    {
      "cell_type": "markdown",
      "metadata": {
        "id": "q7miqciv77Og"
      },
      "source": [
        "**Predicting on Test Data**"
      ]
    },
    {
      "cell_type": "markdown",
      "metadata": {
        "id": "hLzI9FnL8Bw7"
      },
      "source": [
        "Now, you have the models ranked, you can see the performance of the top-rated model on your test data. To do so, run the following code statement −"
      ]
    },
    {
      "cell_type": "code",
      "metadata": {
        "id": "lnUgkUa08Cwg",
        "colab": {
          "base_uri": "https://localhost:8080/"
        },
        "outputId": "80b4c89f-4999-41dc-d540-e4fdf28bbc39"
      },
      "source": [
        "preds = automl.predict(test)"
      ],
      "execution_count": 11,
      "outputs": [
        {
          "output_type": "stream",
          "text": [
            "glm prediction progress: |████████████████████████████████████████████████| 100%\n"
          ],
          "name": "stdout"
        }
      ]
    },
    {
      "cell_type": "markdown",
      "metadata": {
        "id": "KMD4-wQy8NGB"
      },
      "source": [
        "**Printing Result**"
      ]
    },
    {
      "cell_type": "markdown",
      "metadata": {
        "id": "FD_STdWd8R0o"
      },
      "source": [
        "Print the predicted result using the following statement −"
      ]
    },
    {
      "cell_type": "code",
      "metadata": {
        "id": "oBGIyQxz8SjY",
        "colab": {
          "base_uri": "https://localhost:8080/",
          "height": 255
        },
        "outputId": "a485da5b-9e42-45bd-e5cc-87c9d8bcd7ee"
      },
      "source": [
        "print (preds)"
      ],
      "execution_count": 12,
      "outputs": [
        {
          "output_type": "display_data",
          "data": {
            "text/html": [
              "<table>\n",
              "<thead>\n",
              "<tr><th>predict  </th><th style=\"text-align: right;\">  Setosa</th><th style=\"text-align: right;\">  Versicolor</th><th style=\"text-align: right;\">  Virginica</th></tr>\n",
              "</thead>\n",
              "<tbody>\n",
              "<tr><td>Setosa   </td><td style=\"text-align: right;\">0.999805</td><td style=\"text-align: right;\"> 0.000194891</td><td style=\"text-align: right;\">8.55464e-17</td></tr>\n",
              "<tr><td>Setosa   </td><td style=\"text-align: right;\">0.999262</td><td style=\"text-align: right;\"> 0.000737699</td><td style=\"text-align: right;\">1.11596e-16</td></tr>\n",
              "<tr><td>Setosa   </td><td style=\"text-align: right;\">0.998988</td><td style=\"text-align: right;\"> 0.00101185 </td><td style=\"text-align: right;\">7.81032e-16</td></tr>\n",
              "<tr><td>Setosa   </td><td style=\"text-align: right;\">0.998156</td><td style=\"text-align: right;\"> 0.00184428 </td><td style=\"text-align: right;\">2.62065e-16</td></tr>\n",
              "<tr><td>Setosa   </td><td style=\"text-align: right;\">0.999822</td><td style=\"text-align: right;\"> 0.000177786</td><td style=\"text-align: right;\">1.17897e-17</td></tr>\n",
              "<tr><td>Setosa   </td><td style=\"text-align: right;\">0.998592</td><td style=\"text-align: right;\"> 0.00140807 </td><td style=\"text-align: right;\">9.62335e-17</td></tr>\n",
              "<tr><td>Setosa   </td><td style=\"text-align: right;\">0.999198</td><td style=\"text-align: right;\"> 0.000801795</td><td style=\"text-align: right;\">5.02616e-16</td></tr>\n",
              "<tr><td>Setosa   </td><td style=\"text-align: right;\">0.999978</td><td style=\"text-align: right;\"> 2.18634e-05</td><td style=\"text-align: right;\">1.84464e-19</td></tr>\n",
              "<tr><td>Setosa   </td><td style=\"text-align: right;\">0.999903</td><td style=\"text-align: right;\"> 9.72804e-05</td><td style=\"text-align: right;\">2.62471e-18</td></tr>\n",
              "<tr><td>Setosa   </td><td style=\"text-align: right;\">0.999497</td><td style=\"text-align: right;\"> 0.000503419</td><td style=\"text-align: right;\">1.89385e-16</td></tr>\n",
              "</tbody>\n",
              "</table>"
            ]
          },
          "metadata": {
            "tags": []
          }
        },
        {
          "output_type": "stream",
          "text": [
            "\n"
          ],
          "name": "stdout"
        }
      ]
    },
    {
      "cell_type": "markdown",
      "metadata": {
        "id": "dc3Kqw498by4"
      },
      "source": [
        "**Printing the Ranking for All**"
      ]
    },
    {
      "cell_type": "markdown",
      "metadata": {
        "id": "6YfJc90C8fRi"
      },
      "source": [
        "If you want to see the ranks of all the tested algorithms, run the following code statement −"
      ]
    },
    {
      "cell_type": "code",
      "metadata": {
        "id": "dPXY104d8iDg",
        "colab": {
          "base_uri": "https://localhost:8080/",
          "height": 678
        },
        "outputId": "52f62ca0-c4ed-447a-fad0-d1d3c0c9eceb"
      },
      "source": [
        "lb.head(rows = lb.nrows)"
      ],
      "execution_count": 13,
      "outputs": [
        {
          "output_type": "display_data",
          "data": {
            "text/html": [
              "<table>\n",
              "<thead>\n",
              "<tr><th>model_id                                           </th><th style=\"text-align: right;\">  mean_per_class_error</th><th style=\"text-align: right;\">  logloss</th><th style=\"text-align: right;\">    rmse</th><th style=\"text-align: right;\">      mse</th><th style=\"text-align: right;\">  auc</th><th style=\"text-align: right;\">  aucpr</th></tr>\n",
              "</thead>\n",
              "<tbody>\n",
              "<tr><td>GLM_1_AutoML_20210606_183457                       </td><td style=\"text-align: right;\">             0.0240741</td><td style=\"text-align: right;\">0.0821309</td><td style=\"text-align: right;\">0.161252</td><td style=\"text-align: right;\">0.0260022</td><td style=\"text-align: right;\">  nan</td><td style=\"text-align: right;\">    nan</td></tr>\n",
              "<tr><td>DeepLearning_grid__2_AutoML_20210606_183457_model_1</td><td style=\"text-align: right;\">             0.0333333</td><td style=\"text-align: right;\">0.25139  </td><td style=\"text-align: right;\">0.178427</td><td style=\"text-align: right;\">0.0318364</td><td style=\"text-align: right;\">  nan</td><td style=\"text-align: right;\">    nan</td></tr>\n",
              "<tr><td>XGBoost_1_AutoML_20210606_183457                   </td><td style=\"text-align: right;\">             0.05     </td><td style=\"text-align: right;\">0.24658  </td><td style=\"text-align: right;\">0.244583</td><td style=\"text-align: right;\">0.059821 </td><td style=\"text-align: right;\">  nan</td><td style=\"text-align: right;\">    nan</td></tr>\n",
              "<tr><td>GBM_1_AutoML_20210606_183457                       </td><td style=\"text-align: right;\">             0.05     </td><td style=\"text-align: right;\">0.215424 </td><td style=\"text-align: right;\">0.226825</td><td style=\"text-align: right;\">0.0514496</td><td style=\"text-align: right;\">  nan</td><td style=\"text-align: right;\">    nan</td></tr>\n",
              "<tr><td>XGBoost_3_AutoML_20210606_183457                   </td><td style=\"text-align: right;\">             0.05     </td><td style=\"text-align: right;\">0.184234 </td><td style=\"text-align: right;\">0.217079</td><td style=\"text-align: right;\">0.0471231</td><td style=\"text-align: right;\">  nan</td><td style=\"text-align: right;\">    nan</td></tr>\n",
              "<tr><td>GBM_4_AutoML_20210606_183457                       </td><td style=\"text-align: right;\">             0.05     </td><td style=\"text-align: right;\">0.169136 </td><td style=\"text-align: right;\">0.216628</td><td style=\"text-align: right;\">0.0469276</td><td style=\"text-align: right;\">  nan</td><td style=\"text-align: right;\">    nan</td></tr>\n",
              "<tr><td>XGBoost_grid__1_AutoML_20210606_183457_model_8     </td><td style=\"text-align: right;\">             0.05     </td><td style=\"text-align: right;\">0.241442 </td><td style=\"text-align: right;\">0.240844</td><td style=\"text-align: right;\">0.0580059</td><td style=\"text-align: right;\">  nan</td><td style=\"text-align: right;\">    nan</td></tr>\n",
              "<tr><td>DeepLearning_grid__1_AutoML_20210606_183457_model_1</td><td style=\"text-align: right;\">             0.05     </td><td style=\"text-align: right;\">0.219212 </td><td style=\"text-align: right;\">0.200298</td><td style=\"text-align: right;\">0.0401194</td><td style=\"text-align: right;\">  nan</td><td style=\"text-align: right;\">    nan</td></tr>\n",
              "<tr><td>StackedEnsemble_AllModels_AutoML_20210606_183457   </td><td style=\"text-align: right;\">             0.0518519</td><td style=\"text-align: right;\">0.221411 </td><td style=\"text-align: right;\">0.231486</td><td style=\"text-align: right;\">0.0535859</td><td style=\"text-align: right;\">  nan</td><td style=\"text-align: right;\">    nan</td></tr>\n",
              "<tr><td>GBM_3_AutoML_20210606_183457                       </td><td style=\"text-align: right;\">             0.0592593</td><td style=\"text-align: right;\">0.18597  </td><td style=\"text-align: right;\">0.227199</td><td style=\"text-align: right;\">0.0516193</td><td style=\"text-align: right;\">  nan</td><td style=\"text-align: right;\">    nan</td></tr>\n",
              "<tr><td>DRF_1_AutoML_20210606_183457                       </td><td style=\"text-align: right;\">             0.0592593</td><td style=\"text-align: right;\">0.14509  </td><td style=\"text-align: right;\">0.211654</td><td style=\"text-align: right;\">0.0447974</td><td style=\"text-align: right;\">  nan</td><td style=\"text-align: right;\">    nan</td></tr>\n",
              "<tr><td>XGBoost_grid__1_AutoML_20210606_183457_model_3     </td><td style=\"text-align: right;\">             0.0592593</td><td style=\"text-align: right;\">0.262608 </td><td style=\"text-align: right;\">0.255937</td><td style=\"text-align: right;\">0.0655037</td><td style=\"text-align: right;\">  nan</td><td style=\"text-align: right;\">    nan</td></tr>\n",
              "<tr><td>DeepLearning_grid__3_AutoML_20210606_183457_model_1</td><td style=\"text-align: right;\">             0.0592593</td><td style=\"text-align: right;\">0.603773 </td><td style=\"text-align: right;\">0.236284</td><td style=\"text-align: right;\">0.0558299</td><td style=\"text-align: right;\">  nan</td><td style=\"text-align: right;\">    nan</td></tr>\n",
              "<tr><td>GBM_2_AutoML_20210606_183457                       </td><td style=\"text-align: right;\">             0.0592593</td><td style=\"text-align: right;\">0.192575 </td><td style=\"text-align: right;\">0.230644</td><td style=\"text-align: right;\">0.0531966</td><td style=\"text-align: right;\">  nan</td><td style=\"text-align: right;\">    nan</td></tr>\n",
              "<tr><td>XRT_1_AutoML_20210606_183457                       </td><td style=\"text-align: right;\">             0.0592593</td><td style=\"text-align: right;\">0.133937 </td><td style=\"text-align: right;\">0.210053</td><td style=\"text-align: right;\">0.0441224</td><td style=\"text-align: right;\">  nan</td><td style=\"text-align: right;\">    nan</td></tr>\n",
              "<tr><td>StackedEnsemble_BestOfFamily_AutoML_20210606_183457</td><td style=\"text-align: right;\">             0.0603989</td><td style=\"text-align: right;\">0.227615 </td><td style=\"text-align: right;\">0.237971</td><td style=\"text-align: right;\">0.0566302</td><td style=\"text-align: right;\">  nan</td><td style=\"text-align: right;\">    nan</td></tr>\n",
              "<tr><td>XGBoost_2_AutoML_20210606_183457                   </td><td style=\"text-align: right;\">             0.0648148</td><td style=\"text-align: right;\">0.445896 </td><td style=\"text-align: right;\">0.366914</td><td style=\"text-align: right;\">0.134626 </td><td style=\"text-align: right;\">  nan</td><td style=\"text-align: right;\">    nan</td></tr>\n",
              "<tr><td>XGBoost_grid__1_AutoML_20210606_183457_model_4     </td><td style=\"text-align: right;\">             0.0685185</td><td style=\"text-align: right;\">0.202431 </td><td style=\"text-align: right;\">0.228608</td><td style=\"text-align: right;\">0.0522617</td><td style=\"text-align: right;\">  nan</td><td style=\"text-align: right;\">    nan</td></tr>\n",
              "<tr><td>XGBoost_grid__1_AutoML_20210606_183457_model_1     </td><td style=\"text-align: right;\">             0.0685185</td><td style=\"text-align: right;\">0.18863  </td><td style=\"text-align: right;\">0.226078</td><td style=\"text-align: right;\">0.0511114</td><td style=\"text-align: right;\">  nan</td><td style=\"text-align: right;\">    nan</td></tr>\n",
              "<tr><td>XGBoost_grid__1_AutoML_20210606_183457_model_2     </td><td style=\"text-align: right;\">             0.0740741</td><td style=\"text-align: right;\">0.442278 </td><td style=\"text-align: right;\">0.363665</td><td style=\"text-align: right;\">0.132252 </td><td style=\"text-align: right;\">  nan</td><td style=\"text-align: right;\">    nan</td></tr>\n",
              "<tr><td>GBM_grid__1_AutoML_20210606_183457_model_2         </td><td style=\"text-align: right;\">             0.0777778</td><td style=\"text-align: right;\">0.182634 </td><td style=\"text-align: right;\">0.227526</td><td style=\"text-align: right;\">0.051768 </td><td style=\"text-align: right;\">  nan</td><td style=\"text-align: right;\">    nan</td></tr>\n",
              "<tr><td>GBM_grid__1_AutoML_20210606_183457_model_4         </td><td style=\"text-align: right;\">             0.0777778</td><td style=\"text-align: right;\">0.186425 </td><td style=\"text-align: right;\">0.236249</td><td style=\"text-align: right;\">0.0558138</td><td style=\"text-align: right;\">  nan</td><td style=\"text-align: right;\">    nan</td></tr>\n",
              "<tr><td>GBM_grid__1_AutoML_20210606_183457_model_5         </td><td style=\"text-align: right;\">             0.087037 </td><td style=\"text-align: right;\">0.221456 </td><td style=\"text-align: right;\">0.245654</td><td style=\"text-align: right;\">0.0603459</td><td style=\"text-align: right;\">  nan</td><td style=\"text-align: right;\">    nan</td></tr>\n",
              "<tr><td>DeepLearning_grid__1_AutoML_20210606_183457_model_2</td><td style=\"text-align: right;\">             0.0918803</td><td style=\"text-align: right;\">0.124625 </td><td style=\"text-align: right;\">0.211812</td><td style=\"text-align: right;\">0.0448644</td><td style=\"text-align: right;\">  nan</td><td style=\"text-align: right;\">    nan</td></tr>\n",
              "<tr><td>XGBoost_grid__1_AutoML_20210606_183457_model_5     </td><td style=\"text-align: right;\">             0.0944444</td><td style=\"text-align: right;\">0.464621 </td><td style=\"text-align: right;\">0.375774</td><td style=\"text-align: right;\">0.141206 </td><td style=\"text-align: right;\">  nan</td><td style=\"text-align: right;\">    nan</td></tr>\n",
              "<tr><td>XGBoost_grid__1_AutoML_20210606_183457_model_7     </td><td style=\"text-align: right;\">             0.0962963</td><td style=\"text-align: right;\">0.219669 </td><td style=\"text-align: right;\">0.244827</td><td style=\"text-align: right;\">0.0599404</td><td style=\"text-align: right;\">  nan</td><td style=\"text-align: right;\">    nan</td></tr>\n",
              "<tr><td>GBM_grid__1_AutoML_20210606_183457_model_3         </td><td style=\"text-align: right;\">             0.101852 </td><td style=\"text-align: right;\">0.223666 </td><td style=\"text-align: right;\">0.264417</td><td style=\"text-align: right;\">0.0699161</td><td style=\"text-align: right;\">  nan</td><td style=\"text-align: right;\">    nan</td></tr>\n",
              "<tr><td>DeepLearning_1_AutoML_20210606_183457              </td><td style=\"text-align: right;\">             0.108547 </td><td style=\"text-align: right;\">0.191463 </td><td style=\"text-align: right;\">0.240194</td><td style=\"text-align: right;\">0.0576931</td><td style=\"text-align: right;\">  nan</td><td style=\"text-align: right;\">    nan</td></tr>\n",
              "<tr><td>XGBoost_grid__1_AutoML_20210606_183457_model_9     </td><td style=\"text-align: right;\">             0.188177 </td><td style=\"text-align: right;\">0.58997  </td><td style=\"text-align: right;\">0.44454 </td><td style=\"text-align: right;\">0.197615 </td><td style=\"text-align: right;\">  nan</td><td style=\"text-align: right;\">    nan</td></tr>\n",
              "<tr><td>DeepLearning_grid__2_AutoML_20210606_183457_model_2</td><td style=\"text-align: right;\">             0.25     </td><td style=\"text-align: right;\">0.713803 </td><td style=\"text-align: right;\">0.416906</td><td style=\"text-align: right;\">0.173811 </td><td style=\"text-align: right;\">  nan</td><td style=\"text-align: right;\">    nan</td></tr>\n",
              "<tr><td>DeepLearning_grid__3_AutoML_20210606_183457_model_2</td><td style=\"text-align: right;\">             0.324074 </td><td style=\"text-align: right;\">1.53371  </td><td style=\"text-align: right;\">0.530071</td><td style=\"text-align: right;\">0.280975 </td><td style=\"text-align: right;\">  nan</td><td style=\"text-align: right;\">    nan</td></tr>\n",
              "<tr><td>XGBoost_grid__1_AutoML_20210606_183457_model_6     </td><td style=\"text-align: right;\">             0.666667 </td><td style=\"text-align: right;\">1.09506  </td><td style=\"text-align: right;\">0.665039</td><td style=\"text-align: right;\">0.442277 </td><td style=\"text-align: right;\">  nan</td><td style=\"text-align: right;\">    nan</td></tr>\n",
              "</tbody>\n",
              "</table>"
            ]
          },
          "metadata": {
            "tags": []
          }
        },
        {
          "output_type": "execute_result",
          "data": {
            "text/plain": [
              ""
            ]
          },
          "metadata": {
            "tags": []
          },
          "execution_count": 13
        }
      ]
    },
    {
      "cell_type": "markdown",
      "metadata": {
        "id": "pWJrk0ow8nXy"
      },
      "source": [
        "**Conclusion**"
      ]
    },
    {
      "cell_type": "markdown",
      "metadata": {
        "id": "7KM8OUd38pkr"
      },
      "source": [
        "H2O provides an easy-to-use open source platform for applying different ML algorithms on a given dataset. It provides several statistical and ML algorithms including deep learning. During testing, you can fine tune the parameters to these algorithms. You can do so using command-line or the provided web-based interface called Flow. H2O also supports AutoML that provides the ranking amongst the several algorithms based on their performance. H2O also performs well on Big Data. This is definitely a boon for Data Scientist to apply the different Machine Learning models on their dataset and pick up the best one to meet their needs."
      ]
    },
    {
      "cell_type": "code",
      "metadata": {
        "id": "_Q65ImvO8xhP"
      },
      "source": [
        ""
      ],
      "execution_count": 13,
      "outputs": []
    }
  ]
}